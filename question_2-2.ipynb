{
  "nbformat": 4,
  "nbformat_minor": 0,
  "metadata": {
    "colab": {
      "provenance": [],
      "authorship_tag": "ABX9TyOOUfPf2MVJT7+x6v9KEoFg",
      "include_colab_link": true
    },
    "kernelspec": {
      "name": "python3",
      "display_name": "Python 3"
    },
    "language_info": {
      "name": "python"
    }
  },
  "cells": [
    {
      "cell_type": "markdown",
      "metadata": {
        "id": "view-in-github",
        "colab_type": "text"
      },
      "source": [
        "<a href=\"https://colab.research.google.com/github/kurtislam0325/Intro_to_NaturalLanguageProcessing_COMP4221/blob/main/question_2-2.ipynb\" target=\"_parent\"><img src=\"https://colab.research.google.com/assets/colab-badge.svg\" alt=\"Open In Colab\"/></a>"
      ]
    },
    {
      "cell_type": "code",
      "source": [
        "import string\n",
        "import random\n",
        "\n",
        "import nltk\n",
        "import time\n",
        "import sys\n",
        "\n",
        "from nltk.corpus import reuters\n",
        "from nltk import FreqDist\n",
        "from nltk import ngrams"
      ],
      "metadata": {
        "id": "bW23uQII0WVS"
      },
      "execution_count": 51,
      "outputs": []
    },
    {
      "cell_type": "code",
      "source": [
        "file = open(\"./text_news.txt\", \"r\")\n",
        "sents = []\n",
        "while True:\n",
        "    content=file.readline()\n",
        "    if not content:\n",
        "        break\n",
        "    sents.append(content)\n",
        "   # print(content)\n",
        "file.close()"
      ],
      "metadata": {
        "id": "44dQWj6u0hPS"
      },
      "execution_count": 52,
      "outputs": []
    },
    {
      "cell_type": "code",
      "source": [
        "# input the reuters sentences\n",
        "#sents  = [\"I like banana and basketball.\", \"I like banana and apple.\"] #reuters.sents()\n",
        "\n",
        "# write the removal characters such as : Stopwords and punctuation\n",
        "stop_words = set() #set(stopwords.words('english'))\n",
        "string.punctuation = string.punctuation +'\"'+'\"'+'-'+'''+'''+'—'\n",
        "removal_list = list(stop_words) + list(string.punctuation)+ ['lt','rt']\n",
        "\n",
        "# generate unigrams bigrams trigrams\n",
        "unigram=[]\n",
        "bigram=[]\n",
        "trigram=[]\n",
        "fourgram = []\n",
        "tokenized_text=[]"
      ],
      "metadata": {
        "id": "D_g0Ofo30mAp"
      },
      "execution_count": 53,
      "outputs": []
    },
    {
      "cell_type": "code",
      "source": [
        "for sentence in sents:\n",
        "  # sentence = list(map(lambda x:x.lower(),sentence))\n",
        "  sentence = list(sentence.split())\n",
        "  # print(sentence)\n",
        "  for word in sentence:\n",
        "        if word== '.':\n",
        "            sentence.remove(word)\n",
        "        else:\n",
        "            unigram.append(word)\n",
        "\n",
        "  tokenized_text.append(sentence)\n",
        "  bigram.extend(list(ngrams(sentence, 2, pad_left=True, pad_right=True)))\n",
        "  trigram.extend(list(ngrams(sentence, 3, pad_left=True, pad_right=True)))\n",
        "  fourgram.extend(list(ngrams(sentence, 4, pad_left=True, pad_right=True)))"
      ],
      "metadata": {
        "id": "Y59h2_eL0rvs"
      },
      "execution_count": 54,
      "outputs": []
    },
    {
      "cell_type": "code",
      "source": [
        "# remove the n-grams with removable words\n",
        "def remove_stopwords(x):\n",
        "    y = []\n",
        "    for pair in x:\n",
        "        count = 0\n",
        "        for word in pair:\n",
        "            if word in removal_list:\n",
        "                count = count or 0\n",
        "            else:\n",
        "                count = count or 1\n",
        "        if (count==1):\n",
        "            y.append(pair)\n",
        "    return (y)\n",
        "\n",
        "# unigram = remove_stopwords(unigram)\n",
        "# bigram = remove_stopwords(bigram)\n",
        "# trigram = remove_stopwords(trigram)\n",
        "# fourgram = remove_stopwords(fourgram)\n",
        "\n",
        "# # generate frequency of n-grams\n",
        "freq_bi = FreqDist(bigram)\n",
        "freq_tri = FreqDist(trigram)\n",
        "freq_four = FreqDist(fourgram)"
      ],
      "metadata": {
        "id": "aiy66dRm1c21"
      },
      "execution_count": 55,
      "outputs": []
    },
    {
      "cell_type": "code",
      "source": [
        "d = {} # DefaultDict(Counter())\n",
        "\n",
        "target_freq = freq_four\n",
        "\n",
        "for x, y, z, k in target_freq:\n",
        "    if(x is not None and y is not None and z is not None and k is not None):\n",
        "        if (x, y, z) not in d:\n",
        "            d[x, y, z] = {k: target_freq[x, y, z, k]}\n",
        "        elif k in d[x, y, z]:\n",
        "            d[x, y, z][k] += target_freq[x, y, z, k]\n",
        "        else:\n",
        "            d[x, y, z][k] = target_freq[x, y, z, k]"
      ],
      "metadata": {
        "id": "Budua-k11tNq"
      },
      "execution_count": 56,
      "outputs": []
    },
    {
      "cell_type": "code",
      "source": [
        "# Next word prediction\n",
        "s = ''\n",
        "def pick_word(counter):\n",
        "    \"Chooses a random element.\"\n",
        "    return random.choice(list(counter))\n",
        "\n",
        "context = \"It was just a normal summer day when Allan Houston stopped his \"\n",
        "prefix = \"workout\", \"in\", \"midchurn\"\n",
        "\n",
        "s = context + \" \".join(prefix)\n",
        "print(s)\n",
        "\n",
        "SID = \"20862104\"\n",
        "num_merges = (int(SID[-1]) + 1) * 5\n",
        "\n",
        "for i in range(num_merges):\n",
        "    suffix = pick_word(d[prefix])\n",
        "\n",
        "    s = s + ' ' + suffix\n",
        "    print(s)\n",
        "\n",
        "    prefix =  prefix[1], prefix[2], suffix"
      ],
      "metadata": {
        "colab": {
          "base_uri": "https://localhost:8080/"
        },
        "id": "Zz_U_f0T3wrl",
        "outputId": "e234a03a-f0b2-428f-adbe-5484edf779f7"
      },
      "execution_count": 67,
      "outputs": [
        {
          "output_type": "stream",
          "name": "stdout",
          "text": [
            "It was just a normal summer day when Allan Houston stopped his workout in midchurn\n",
            "It was just a normal summer day when Allan Houston stopped his workout in midchurn ,\n",
            "It was just a normal summer day when Allan Houston stopped his workout in midchurn , stepped\n",
            "It was just a normal summer day when Allan Houston stopped his workout in midchurn , stepped off\n",
            "It was just a normal summer day when Allan Houston stopped his workout in midchurn , stepped off the\n",
            "It was just a normal summer day when Allan Houston stopped his workout in midchurn , stepped off the stationary\n",
            "It was just a normal summer day when Allan Houston stopped his workout in midchurn , stepped off the stationary bike\n",
            "It was just a normal summer day when Allan Houston stopped his workout in midchurn , stepped off the stationary bike and\n",
            "It was just a normal summer day when Allan Houston stopped his workout in midchurn , stepped off the stationary bike and ducked\n",
            "It was just a normal summer day when Allan Houston stopped his workout in midchurn , stepped off the stationary bike and ducked into\n",
            "It was just a normal summer day when Allan Houston stopped his workout in midchurn , stepped off the stationary bike and ducked into a\n",
            "It was just a normal summer day when Allan Houston stopped his workout in midchurn , stepped off the stationary bike and ducked into a bar\n",
            "It was just a normal summer day when Allan Houston stopped his workout in midchurn , stepped off the stationary bike and ducked into a bar for\n",
            "It was just a normal summer day when Allan Houston stopped his workout in midchurn , stepped off the stationary bike and ducked into a bar for dinner\n",
            "It was just a normal summer day when Allan Houston stopped his workout in midchurn , stepped off the stationary bike and ducked into a bar for dinner He\n",
            "It was just a normal summer day when Allan Houston stopped his workout in midchurn , stepped off the stationary bike and ducked into a bar for dinner He had\n",
            "It was just a normal summer day when Allan Houston stopped his workout in midchurn , stepped off the stationary bike and ducked into a bar for dinner He had n't\n",
            "It was just a normal summer day when Allan Houston stopped his workout in midchurn , stepped off the stationary bike and ducked into a bar for dinner He had n't been\n",
            "It was just a normal summer day when Allan Houston stopped his workout in midchurn , stepped off the stationary bike and ducked into a bar for dinner He had n't been sick\n",
            "It was just a normal summer day when Allan Houston stopped his workout in midchurn , stepped off the stationary bike and ducked into a bar for dinner He had n't been sick \"\n",
            "It was just a normal summer day when Allan Houston stopped his workout in midchurn , stepped off the stationary bike and ducked into a bar for dinner He had n't been sick \" Johnston\n",
            "It was just a normal summer day when Allan Houston stopped his workout in midchurn , stepped off the stationary bike and ducked into a bar for dinner He had n't been sick \" Johnston will\n",
            "It was just a normal summer day when Allan Houston stopped his workout in midchurn , stepped off the stationary bike and ducked into a bar for dinner He had n't been sick \" Johnston will fly\n",
            "It was just a normal summer day when Allan Houston stopped his workout in midchurn , stepped off the stationary bike and ducked into a bar for dinner He had n't been sick \" Johnston will fly to\n",
            "It was just a normal summer day when Allan Houston stopped his workout in midchurn , stepped off the stationary bike and ducked into a bar for dinner He had n't been sick \" Johnston will fly to London\n",
            "It was just a normal summer day when Allan Houston stopped his workout in midchurn , stepped off the stationary bike and ducked into a bar for dinner He had n't been sick \" Johnston will fly to London for\n"
          ]
        }
      ]
    }
  ]
}